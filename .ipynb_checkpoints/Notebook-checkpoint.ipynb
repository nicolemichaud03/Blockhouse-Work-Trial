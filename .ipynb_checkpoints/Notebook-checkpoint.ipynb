{
 "cells": [
  {
   "cell_type": "markdown",
   "id": "7347130f",
   "metadata": {},
   "source": [
    "# Blockhouse Work Trial Task - ML Researcher"
   ]
  },
  {
   "cell_type": "code",
   "execution_count": 1,
   "id": "aaf4c24e",
   "metadata": {},
   "outputs": [],
   "source": [
    "#imports\n",
    "import numpy as np\n",
    "import pandas as pd"
   ]
  },
  {
   "cell_type": "code",
   "execution_count": 2,
   "id": "b30c218c",
   "metadata": {},
   "outputs": [],
   "source": [
    "# data = pd.read_csv('data/AAPL_Quotes_Data.csv')\n",
    "# data.head(10)"
   ]
  },
  {
   "cell_type": "code",
   "execution_count": 3,
   "id": "fb417719",
   "metadata": {},
   "outputs": [
    {
     "data": {
      "text/html": [
       "<div>\n",
       "<style scoped>\n",
       "    .dataframe tbody tr th:only-of-type {\n",
       "        vertical-align: middle;\n",
       "    }\n",
       "\n",
       "    .dataframe tbody tr th {\n",
       "        vertical-align: top;\n",
       "    }\n",
       "\n",
       "    .dataframe thead th {\n",
       "        text-align: right;\n",
       "    }\n",
       "</style>\n",
       "<table border=\"1\" class=\"dataframe\">\n",
       "  <thead>\n",
       "    <tr style=\"text-align: right;\">\n",
       "      <th></th>\n",
       "      <th>timestamp</th>\n",
       "      <th>bid_price_1</th>\n",
       "      <th>bid_price_2</th>\n",
       "      <th>bid_price_3</th>\n",
       "      <th>bid_price_4</th>\n",
       "      <th>bid_price_5</th>\n",
       "      <th>bid_size_1</th>\n",
       "      <th>bid_size_2</th>\n",
       "      <th>bid_size_3</th>\n",
       "      <th>bid_size_4</th>\n",
       "      <th>...</th>\n",
       "      <th>publisher_id</th>\n",
       "      <th>instrument_id</th>\n",
       "      <th>open</th>\n",
       "      <th>high</th>\n",
       "      <th>low</th>\n",
       "      <th>close</th>\n",
       "      <th>volume</th>\n",
       "      <th>symbol</th>\n",
       "      <th>log_return</th>\n",
       "      <th>volatility</th>\n",
       "    </tr>\n",
       "  </thead>\n",
       "  <tbody>\n",
       "    <tr>\n",
       "      <th>0</th>\n",
       "      <td>2023-09-12 13:30:00+00:00</td>\n",
       "      <td>179.66</td>\n",
       "      <td>179.66</td>\n",
       "      <td>179.66</td>\n",
       "      <td>179.66</td>\n",
       "      <td>179.66</td>\n",
       "      <td>27600.0</td>\n",
       "      <td>30000.0</td>\n",
       "      <td>23100.0</td>\n",
       "      <td>23100.0</td>\n",
       "      <td>...</td>\n",
       "      <td>NaN</td>\n",
       "      <td>NaN</td>\n",
       "      <td>NaN</td>\n",
       "      <td>NaN</td>\n",
       "      <td>NaN</td>\n",
       "      <td>NaN</td>\n",
       "      <td>NaN</td>\n",
       "      <td>NaN</td>\n",
       "      <td>NaN</td>\n",
       "      <td>NaN</td>\n",
       "    </tr>\n",
       "    <tr>\n",
       "      <th>1</th>\n",
       "      <td>2023-09-12 13:31:00+00:00</td>\n",
       "      <td>179.89</td>\n",
       "      <td>179.89</td>\n",
       "      <td>179.89</td>\n",
       "      <td>179.89</td>\n",
       "      <td>179.89</td>\n",
       "      <td>21200.0</td>\n",
       "      <td>900.0</td>\n",
       "      <td>1200.0</td>\n",
       "      <td>20300.0</td>\n",
       "      <td>...</td>\n",
       "      <td>NaN</td>\n",
       "      <td>NaN</td>\n",
       "      <td>NaN</td>\n",
       "      <td>NaN</td>\n",
       "      <td>NaN</td>\n",
       "      <td>NaN</td>\n",
       "      <td>NaN</td>\n",
       "      <td>NaN</td>\n",
       "      <td>NaN</td>\n",
       "      <td>NaN</td>\n",
       "    </tr>\n",
       "    <tr>\n",
       "      <th>2</th>\n",
       "      <td>2023-09-12 13:32:00+00:00</td>\n",
       "      <td>180.12</td>\n",
       "      <td>180.12</td>\n",
       "      <td>180.12</td>\n",
       "      <td>180.12</td>\n",
       "      <td>180.11</td>\n",
       "      <td>10000.0</td>\n",
       "      <td>30000.0</td>\n",
       "      <td>20000.0</td>\n",
       "      <td>30000.0</td>\n",
       "      <td>...</td>\n",
       "      <td>NaN</td>\n",
       "      <td>NaN</td>\n",
       "      <td>NaN</td>\n",
       "      <td>NaN</td>\n",
       "      <td>NaN</td>\n",
       "      <td>NaN</td>\n",
       "      <td>NaN</td>\n",
       "      <td>NaN</td>\n",
       "      <td>NaN</td>\n",
       "      <td>NaN</td>\n",
       "    </tr>\n",
       "    <tr>\n",
       "      <th>3</th>\n",
       "      <td>2023-09-12 13:33:00+00:00</td>\n",
       "      <td>179.99</td>\n",
       "      <td>179.99</td>\n",
       "      <td>179.99</td>\n",
       "      <td>179.99</td>\n",
       "      <td>179.99</td>\n",
       "      <td>17400.0</td>\n",
       "      <td>19700.0</td>\n",
       "      <td>9700.0</td>\n",
       "      <td>19700.0</td>\n",
       "      <td>...</td>\n",
       "      <td>NaN</td>\n",
       "      <td>NaN</td>\n",
       "      <td>NaN</td>\n",
       "      <td>NaN</td>\n",
       "      <td>NaN</td>\n",
       "      <td>NaN</td>\n",
       "      <td>NaN</td>\n",
       "      <td>NaN</td>\n",
       "      <td>NaN</td>\n",
       "      <td>NaN</td>\n",
       "    </tr>\n",
       "    <tr>\n",
       "      <th>4</th>\n",
       "      <td>2023-09-12 13:34:00+00:00</td>\n",
       "      <td>179.78</td>\n",
       "      <td>179.78</td>\n",
       "      <td>179.78</td>\n",
       "      <td>179.78</td>\n",
       "      <td>179.78</td>\n",
       "      <td>10000.0</td>\n",
       "      <td>10000.0</td>\n",
       "      <td>12100.0</td>\n",
       "      <td>10600.0</td>\n",
       "      <td>...</td>\n",
       "      <td>NaN</td>\n",
       "      <td>NaN</td>\n",
       "      <td>NaN</td>\n",
       "      <td>NaN</td>\n",
       "      <td>NaN</td>\n",
       "      <td>NaN</td>\n",
       "      <td>NaN</td>\n",
       "      <td>NaN</td>\n",
       "      <td>NaN</td>\n",
       "      <td>NaN</td>\n",
       "    </tr>\n",
       "    <tr>\n",
       "      <th>5</th>\n",
       "      <td>2023-09-12 13:35:00+00:00</td>\n",
       "      <td>179.84</td>\n",
       "      <td>179.84</td>\n",
       "      <td>179.84</td>\n",
       "      <td>179.84</td>\n",
       "      <td>179.83</td>\n",
       "      <td>300.0</td>\n",
       "      <td>1300.0</td>\n",
       "      <td>1000.0</td>\n",
       "      <td>1300.0</td>\n",
       "      <td>...</td>\n",
       "      <td>NaN</td>\n",
       "      <td>NaN</td>\n",
       "      <td>NaN</td>\n",
       "      <td>NaN</td>\n",
       "      <td>NaN</td>\n",
       "      <td>NaN</td>\n",
       "      <td>NaN</td>\n",
       "      <td>NaN</td>\n",
       "      <td>NaN</td>\n",
       "      <td>NaN</td>\n",
       "    </tr>\n",
       "    <tr>\n",
       "      <th>6</th>\n",
       "      <td>2023-09-12 13:36:00+00:00</td>\n",
       "      <td>179.84</td>\n",
       "      <td>179.84</td>\n",
       "      <td>179.84</td>\n",
       "      <td>179.84</td>\n",
       "      <td>179.84</td>\n",
       "      <td>31700.0</td>\n",
       "      <td>6800.0</td>\n",
       "      <td>31700.0</td>\n",
       "      <td>31700.0</td>\n",
       "      <td>...</td>\n",
       "      <td>NaN</td>\n",
       "      <td>NaN</td>\n",
       "      <td>NaN</td>\n",
       "      <td>NaN</td>\n",
       "      <td>NaN</td>\n",
       "      <td>NaN</td>\n",
       "      <td>NaN</td>\n",
       "      <td>NaN</td>\n",
       "      <td>NaN</td>\n",
       "      <td>NaN</td>\n",
       "    </tr>\n",
       "    <tr>\n",
       "      <th>7</th>\n",
       "      <td>2023-09-12 13:37:00+00:00</td>\n",
       "      <td>179.79</td>\n",
       "      <td>179.79</td>\n",
       "      <td>179.79</td>\n",
       "      <td>179.79</td>\n",
       "      <td>179.79</td>\n",
       "      <td>13400.0</td>\n",
       "      <td>300.0</td>\n",
       "      <td>3400.0</td>\n",
       "      <td>13400.0</td>\n",
       "      <td>...</td>\n",
       "      <td>NaN</td>\n",
       "      <td>NaN</td>\n",
       "      <td>NaN</td>\n",
       "      <td>NaN</td>\n",
       "      <td>NaN</td>\n",
       "      <td>NaN</td>\n",
       "      <td>NaN</td>\n",
       "      <td>NaN</td>\n",
       "      <td>NaN</td>\n",
       "      <td>NaN</td>\n",
       "    </tr>\n",
       "    <tr>\n",
       "      <th>8</th>\n",
       "      <td>2023-09-12 13:38:00+00:00</td>\n",
       "      <td>179.75</td>\n",
       "      <td>179.75</td>\n",
       "      <td>179.75</td>\n",
       "      <td>179.75</td>\n",
       "      <td>179.75</td>\n",
       "      <td>29000.0</td>\n",
       "      <td>36900.0</td>\n",
       "      <td>20000.0</td>\n",
       "      <td>20000.0</td>\n",
       "      <td>...</td>\n",
       "      <td>NaN</td>\n",
       "      <td>NaN</td>\n",
       "      <td>NaN</td>\n",
       "      <td>NaN</td>\n",
       "      <td>NaN</td>\n",
       "      <td>NaN</td>\n",
       "      <td>NaN</td>\n",
       "      <td>NaN</td>\n",
       "      <td>NaN</td>\n",
       "      <td>NaN</td>\n",
       "    </tr>\n",
       "    <tr>\n",
       "      <th>9</th>\n",
       "      <td>2023-09-12 13:39:00+00:00</td>\n",
       "      <td>179.61</td>\n",
       "      <td>179.61</td>\n",
       "      <td>179.61</td>\n",
       "      <td>179.61</td>\n",
       "      <td>179.61</td>\n",
       "      <td>26200.0</td>\n",
       "      <td>2000.0</td>\n",
       "      <td>22500.0</td>\n",
       "      <td>2500.0</td>\n",
       "      <td>...</td>\n",
       "      <td>NaN</td>\n",
       "      <td>NaN</td>\n",
       "      <td>NaN</td>\n",
       "      <td>NaN</td>\n",
       "      <td>NaN</td>\n",
       "      <td>NaN</td>\n",
       "      <td>NaN</td>\n",
       "      <td>NaN</td>\n",
       "      <td>NaN</td>\n",
       "      <td>NaN</td>\n",
       "    </tr>\n",
       "  </tbody>\n",
       "</table>\n",
       "<p>10 rows × 32 columns</p>\n",
       "</div>"
      ],
      "text/plain": [
       "                   timestamp  bid_price_1  bid_price_2  bid_price_3  \\\n",
       "0  2023-09-12 13:30:00+00:00       179.66       179.66       179.66   \n",
       "1  2023-09-12 13:31:00+00:00       179.89       179.89       179.89   \n",
       "2  2023-09-12 13:32:00+00:00       180.12       180.12       180.12   \n",
       "3  2023-09-12 13:33:00+00:00       179.99       179.99       179.99   \n",
       "4  2023-09-12 13:34:00+00:00       179.78       179.78       179.78   \n",
       "5  2023-09-12 13:35:00+00:00       179.84       179.84       179.84   \n",
       "6  2023-09-12 13:36:00+00:00       179.84       179.84       179.84   \n",
       "7  2023-09-12 13:37:00+00:00       179.79       179.79       179.79   \n",
       "8  2023-09-12 13:38:00+00:00       179.75       179.75       179.75   \n",
       "9  2023-09-12 13:39:00+00:00       179.61       179.61       179.61   \n",
       "\n",
       "   bid_price_4  bid_price_5  bid_size_1  bid_size_2  bid_size_3  bid_size_4  \\\n",
       "0       179.66       179.66     27600.0     30000.0     23100.0     23100.0   \n",
       "1       179.89       179.89     21200.0       900.0      1200.0     20300.0   \n",
       "2       180.12       180.11     10000.0     30000.0     20000.0     30000.0   \n",
       "3       179.99       179.99     17400.0     19700.0      9700.0     19700.0   \n",
       "4       179.78       179.78     10000.0     10000.0     12100.0     10600.0   \n",
       "5       179.84       179.83       300.0      1300.0      1000.0      1300.0   \n",
       "6       179.84       179.84     31700.0      6800.0     31700.0     31700.0   \n",
       "7       179.79       179.79     13400.0       300.0      3400.0     13400.0   \n",
       "8       179.75       179.75     29000.0     36900.0     20000.0     20000.0   \n",
       "9       179.61       179.61     26200.0      2000.0     22500.0      2500.0   \n",
       "\n",
       "   ...  publisher_id  instrument_id  open  high  low  close  volume  symbol  \\\n",
       "0  ...           NaN            NaN   NaN   NaN  NaN    NaN     NaN     NaN   \n",
       "1  ...           NaN            NaN   NaN   NaN  NaN    NaN     NaN     NaN   \n",
       "2  ...           NaN            NaN   NaN   NaN  NaN    NaN     NaN     NaN   \n",
       "3  ...           NaN            NaN   NaN   NaN  NaN    NaN     NaN     NaN   \n",
       "4  ...           NaN            NaN   NaN   NaN  NaN    NaN     NaN     NaN   \n",
       "5  ...           NaN            NaN   NaN   NaN  NaN    NaN     NaN     NaN   \n",
       "6  ...           NaN            NaN   NaN   NaN  NaN    NaN     NaN     NaN   \n",
       "7  ...           NaN            NaN   NaN   NaN  NaN    NaN     NaN     NaN   \n",
       "8  ...           NaN            NaN   NaN   NaN  NaN    NaN     NaN     NaN   \n",
       "9  ...           NaN            NaN   NaN   NaN  NaN    NaN     NaN     NaN   \n",
       "\n",
       "   log_return  volatility  \n",
       "0         NaN         NaN  \n",
       "1         NaN         NaN  \n",
       "2         NaN         NaN  \n",
       "3         NaN         NaN  \n",
       "4         NaN         NaN  \n",
       "5         NaN         NaN  \n",
       "6         NaN         NaN  \n",
       "7         NaN         NaN  \n",
       "8         NaN         NaN  \n",
       "9         NaN         NaN  \n",
       "\n",
       "[10 rows x 32 columns]"
      ]
     },
     "execution_count": 3,
     "metadata": {},
     "output_type": "execute_result"
    }
   ],
   "source": [
    "data = pd.read_csv('data/merged_bid_ask_ohlcv_data.csv')\n",
    "data.head(10)"
   ]
  },
  {
   "cell_type": "code",
   "execution_count": 4,
   "id": "385c0cfd",
   "metadata": {},
   "outputs": [
    {
     "name": "stdout",
     "output_type": "stream",
     "text": [
      "<class 'pandas.core.frame.DataFrame'>\n",
      "RangeIndex: 100964 entries, 0 to 100963\n",
      "Data columns (total 32 columns):\n",
      " #   Column         Non-Null Count   Dtype  \n",
      "---  ------         --------------   -----  \n",
      " 0   timestamp      100964 non-null  object \n",
      " 1   bid_price_1    100964 non-null  float64\n",
      " 2   bid_price_2    100931 non-null  float64\n",
      " 3   bid_price_3    100879 non-null  float64\n",
      " 4   bid_price_4    100825 non-null  float64\n",
      " 5   bid_price_5    100769 non-null  float64\n",
      " 6   bid_size_1     100964 non-null  float64\n",
      " 7   bid_size_2     100931 non-null  float64\n",
      " 8   bid_size_3     100879 non-null  float64\n",
      " 9   bid_size_4     100825 non-null  float64\n",
      " 10  bid_size_5     100769 non-null  float64\n",
      " 11  ask_price_1    100964 non-null  float64\n",
      " 12  ask_price_2    100931 non-null  float64\n",
      " 13  ask_price_3    100879 non-null  float64\n",
      " 14  ask_price_4    100825 non-null  float64\n",
      " 15  ask_price_5    100769 non-null  float64\n",
      " 16  ask_size_1     100964 non-null  float64\n",
      " 17  ask_size_2     100931 non-null  float64\n",
      " 18  ask_size_3     100879 non-null  float64\n",
      " 19  ask_size_4     100825 non-null  float64\n",
      " 20  ask_size_5     100769 non-null  float64\n",
      " 21  rtype          100807 non-null  float64\n",
      " 22  publisher_id   100807 non-null  float64\n",
      " 23  instrument_id  100807 non-null  float64\n",
      " 24  open           100807 non-null  float64\n",
      " 25  high           100807 non-null  float64\n",
      " 26  low            100807 non-null  float64\n",
      " 27  close          100807 non-null  float64\n",
      " 28  volume         100807 non-null  float64\n",
      " 29  symbol         100807 non-null  object \n",
      " 30  log_return     100807 non-null  float64\n",
      " 31  volatility     100807 non-null  float64\n",
      "dtypes: float64(30), object(2)\n",
      "memory usage: 24.6+ MB\n"
     ]
    }
   ],
   "source": [
    "data.info()"
   ]
  },
  {
   "cell_type": "code",
   "execution_count": 9,
   "id": "03692fe0",
   "metadata": {},
   "outputs": [
    {
     "data": {
      "text/plain": [
       "array([nan, 'AAPL'], dtype=object)"
      ]
     },
     "execution_count": 9,
     "metadata": {},
     "output_type": "execute_result"
    }
   ],
   "source": [
    "data['symbol'].unique()"
   ]
  },
  {
   "cell_type": "code",
   "execution_count": 10,
   "id": "c4fdf18b",
   "metadata": {},
   "outputs": [],
   "source": [
    "data = data[data['symbol'].notna()]"
   ]
  },
  {
   "cell_type": "code",
   "execution_count": 13,
   "id": "9e43ec82",
   "metadata": {},
   "outputs": [],
   "source": [
    "data = data.drop(columns=['rtype', 'publisher_id', 'instrument_id', 'log_return'])"
   ]
  },
  {
   "cell_type": "code",
   "execution_count": 14,
   "id": "279d430b",
   "metadata": {},
   "outputs": [
    {
     "name": "stdout",
     "output_type": "stream",
     "text": [
      "<class 'pandas.core.frame.DataFrame'>\n",
      "Int64Index: 100807 entries, 15 to 100963\n",
      "Data columns (total 28 columns):\n",
      " #   Column       Non-Null Count   Dtype  \n",
      "---  ------       --------------   -----  \n",
      " 0   timestamp    100807 non-null  object \n",
      " 1   bid_price_1  100807 non-null  float64\n",
      " 2   bid_price_2  100801 non-null  float64\n",
      " 3   bid_price_3  100775 non-null  float64\n",
      " 4   bid_price_4  100753 non-null  float64\n",
      " 5   bid_price_5  100712 non-null  float64\n",
      " 6   bid_size_1   100807 non-null  float64\n",
      " 7   bid_size_2   100801 non-null  float64\n",
      " 8   bid_size_3   100775 non-null  float64\n",
      " 9   bid_size_4   100753 non-null  float64\n",
      " 10  bid_size_5   100712 non-null  float64\n",
      " 11  ask_price_1  100807 non-null  float64\n",
      " 12  ask_price_2  100801 non-null  float64\n",
      " 13  ask_price_3  100775 non-null  float64\n",
      " 14  ask_price_4  100753 non-null  float64\n",
      " 15  ask_price_5  100712 non-null  float64\n",
      " 16  ask_size_1   100807 non-null  float64\n",
      " 17  ask_size_2   100801 non-null  float64\n",
      " 18  ask_size_3   100775 non-null  float64\n",
      " 19  ask_size_4   100753 non-null  float64\n",
      " 20  ask_size_5   100712 non-null  float64\n",
      " 21  open         100807 non-null  float64\n",
      " 22  high         100807 non-null  float64\n",
      " 23  low          100807 non-null  float64\n",
      " 24  close        100807 non-null  float64\n",
      " 25  volume       100807 non-null  float64\n",
      " 26  symbol       100807 non-null  object \n",
      " 27  volatility   100807 non-null  float64\n",
      "dtypes: float64(26), object(2)\n",
      "memory usage: 24.8+ MB\n"
     ]
    }
   ],
   "source": [
    "data.info()"
   ]
  },
  {
   "cell_type": "code",
   "execution_count": 5,
   "id": "c9a40e28",
   "metadata": {},
   "outputs": [],
   "source": [
    "# data2.info()"
   ]
  },
  {
   "cell_type": "code",
   "execution_count": 6,
   "id": "696ba0c7",
   "metadata": {},
   "outputs": [],
   "source": [
    "# data2 = data2[(data2['timestamp']>='2024-07-01 13:30:00+00:00' and data['timestamp']<= '2024-08-30 19:59:00+00:00')] \n",
    "# data2.head()x"
   ]
  },
  {
   "cell_type": "code",
   "execution_count": 7,
   "id": "d487f087",
   "metadata": {},
   "outputs": [],
   "source": [
    "# data2 = data2[(data2['timestamp']>= '2024-07-01 13:30:00+00:00')&(data2['timestamp']< '2024-08-30 19:59:00+00:00')]\n"
   ]
  },
  {
   "cell_type": "code",
   "execution_count": 16,
   "id": "7a3fdf3d",
   "metadata": {},
   "outputs": [],
   "source": [
    "# close = data2['close'].to_list()"
   ]
  },
  {
   "cell_type": "code",
   "execution_count": 17,
   "id": "725a1243",
   "metadata": {},
   "outputs": [
    {
     "data": {
      "text/plain": [
       "17130"
      ]
     },
     "execution_count": 17,
     "metadata": {},
     "output_type": "execute_result"
    }
   ],
   "source": [
    "# len(close)"
   ]
  },
  {
   "cell_type": "code",
   "execution_count": 21,
   "id": "43bda139",
   "metadata": {},
   "outputs": [],
   "source": [
    "# #need to change the data type of the timestamp column to be recognized as a date and time\n",
    "# data2['timestamp'] = pd.to_datetime(data2['timestamp'])"
   ]
  },
  {
   "cell_type": "code",
   "execution_count": 8,
   "id": "1cc3b6d1",
   "metadata": {},
   "outputs": [],
   "source": [
    "# data2['timestamp'].dt.date.value_counts()"
   ]
  },
  {
   "cell_type": "code",
   "execution_count": 9,
   "id": "a3a0657f",
   "metadata": {},
   "outputs": [],
   "source": [
    "# #need to change the data type of the timestamp column to be recognized as a date and time\n",
    "# data['timestamp'] = pd.to_datetime(data['timestamp'])\n",
    "# data['timestamp'].dt.date.value_counts()"
   ]
  },
  {
   "cell_type": "code",
   "execution_count": 10,
   "id": "81573200",
   "metadata": {},
   "outputs": [],
   "source": [
    "# data['close'] = close"
   ]
  },
  {
   "cell_type": "code",
   "execution_count": 11,
   "id": "4f63bf38",
   "metadata": {},
   "outputs": [],
   "source": [
    "# data = pd.concat([data, data2[\"close\"]], axis=1)\n",
    "# print(data.shape)"
   ]
  },
  {
   "cell_type": "code",
   "execution_count": 12,
   "id": "14440140",
   "metadata": {},
   "outputs": [],
   "source": [
    "# data['close'].unique()"
   ]
  },
  {
   "cell_type": "code",
   "execution_count": 13,
   "id": "872278cc",
   "metadata": {},
   "outputs": [],
   "source": [
    "# data = data.merge(data2[\"close\"], on= [0], how='left')\n"
   ]
  },
  {
   "cell_type": "code",
   "execution_count": 14,
   "id": "6900620a",
   "metadata": {},
   "outputs": [],
   "source": [
    "# data = data.merge(data2['close'], how = 'left', left_on = 'timestamp')"
   ]
  },
  {
   "cell_type": "code",
   "execution_count": 15,
   "id": "915c2960",
   "metadata": {},
   "outputs": [],
   "source": [
    "# data = pd.merge(data, data2['close'], how='left', on='timestamp')"
   ]
  },
  {
   "cell_type": "code",
   "execution_count": 15,
   "id": "2cb8416b",
   "metadata": {},
   "outputs": [
    {
     "data": {
      "text/plain": [
       "'2023-09-12 13:45:00+00:00'"
      ]
     },
     "execution_count": 15,
     "metadata": {},
     "output_type": "execute_result"
    }
   ],
   "source": [
    "min(data['timestamp'])"
   ]
  },
  {
   "cell_type": "code",
   "execution_count": 16,
   "id": "e8d40a5a",
   "metadata": {},
   "outputs": [
    {
     "data": {
      "text/plain": [
       "'2024-09-20 19:59:00+00:00'"
      ]
     },
     "execution_count": 16,
     "metadata": {},
     "output_type": "execute_result"
    }
   ],
   "source": [
    "max(data['timestamp'])"
   ]
  },
  {
   "cell_type": "markdown",
   "id": "130dcfa8",
   "metadata": {},
   "source": [
    "The data contains information on 17,126 shares, over the course of about two months (7/1/24 through 8/30/24)."
   ]
  },
  {
   "cell_type": "markdown",
   "id": "bf9f21a1",
   "metadata": {},
   "source": [
    "The task at hand involves splitting the trades of 1000 shares within one trading day (390 minutes)."
   ]
  },
  {
   "cell_type": "markdown",
   "id": "2b1ca2ba",
   "metadata": {},
   "source": [
    "The provided features of each quote include the date and time, bid prices 1 through 5, bid sizes 1 through 5, ask prices 1 through 5, and ask sizes 1 through 5."
   ]
  },
  {
   "cell_type": "code",
   "execution_count": 17,
   "id": "cf5287d5",
   "metadata": {},
   "outputs": [
    {
     "data": {
      "text/plain": [
       "2023-10-03    390\n",
       "2024-07-22    390\n",
       "2024-08-06    390\n",
       "2023-09-22    390\n",
       "2024-04-01    390\n",
       "             ... \n",
       "2023-12-29    384\n",
       "2023-12-28    384\n",
       "2023-09-12    375\n",
       "2023-11-24    348\n",
       "2024-07-03    324\n",
       "Name: timestamp, Length: 259, dtype: int64"
      ]
     },
     "execution_count": 17,
     "metadata": {},
     "output_type": "execute_result"
    }
   ],
   "source": [
    "#need to change the data type of the timestamp column to be recognized as a date and time\n",
    "data['timestamp'] = pd.to_datetime(data['timestamp'])\n",
    "data['timestamp'].dt.date.value_counts()"
   ]
  },
  {
   "cell_type": "code",
   "execution_count": null,
   "id": "2d15fef4",
   "metadata": {},
   "outputs": [],
   "source": []
  },
  {
   "cell_type": "markdown",
   "id": "0b5b4d6a",
   "metadata": {},
   "source": [
    "## Data Processing"
   ]
  },
  {
   "cell_type": "code",
   "execution_count": 18,
   "id": "d3cb2e14",
   "metadata": {},
   "outputs": [
    {
     "data": {
      "text/plain": [
       "2023-10-03    390\n",
       "2024-07-22    390\n",
       "2024-08-06    390\n",
       "2023-09-22    390\n",
       "2024-04-01    390\n",
       "             ... \n",
       "2023-12-29    384\n",
       "2023-12-28    384\n",
       "2023-09-12    375\n",
       "2023-11-24    348\n",
       "2024-07-03    324\n",
       "Name: timestamp, Length: 259, dtype: int64"
      ]
     },
     "execution_count": 18,
     "metadata": {},
     "output_type": "execute_result"
    }
   ],
   "source": [
    "data['timestamp'].dt.date.value_counts()"
   ]
  },
  {
   "cell_type": "code",
   "execution_count": 19,
   "id": "a62ce262",
   "metadata": {},
   "outputs": [
    {
     "data": {
      "text/plain": [
       "15        False\n",
       "16        False\n",
       "17        False\n",
       "18        False\n",
       "19        False\n",
       "          ...  \n",
       "100959    False\n",
       "100960    False\n",
       "100961    False\n",
       "100962    False\n",
       "100963    False\n",
       "Name: timestamp, Length: 100807, dtype: bool"
      ]
     },
     "execution_count": 19,
     "metadata": {},
     "output_type": "execute_result"
    }
   ],
   "source": [
    "data['timestamp'].dt.date == ('2024-07-01')"
   ]
  },
  {
   "cell_type": "markdown",
   "id": "b1a5ab80",
   "metadata": {},
   "source": [
    "Dealing with missing values:"
   ]
  },
  {
   "cell_type": "code",
   "execution_count": 20,
   "id": "143a67be",
   "metadata": {},
   "outputs": [],
   "source": [
    "# #missing values in either the bids or asks indicates a price was agreed upon in less than 5 bids\n",
    "# #therefore, for these missing values, it makes the most sense to just impute\n",
    "# #the last bid or ask price or size that as given for that same timestamp\n",
    "# def final_bid_price\n",
    "#     for row in data:\n",
    "#         if data.bid_size_5.isna():\n",
    "#             data.bid_size_5\n",
    "        "
   ]
  },
  {
   "cell_type": "code",
   "execution_count": 21,
   "id": "991b6970",
   "metadata": {},
   "outputs": [
    {
     "data": {
      "text/plain": [
       "95"
      ]
     },
     "execution_count": 21,
     "metadata": {},
     "output_type": "execute_result"
    }
   ],
   "source": [
    "data['bid_price_5'].isnull().sum()"
   ]
  },
  {
   "cell_type": "code",
   "execution_count": 22,
   "id": "9d3ee05a",
   "metadata": {},
   "outputs": [
    {
     "data": {
      "text/plain": [
       "54"
      ]
     },
     "execution_count": 22,
     "metadata": {},
     "output_type": "execute_result"
    }
   ],
   "source": [
    "data['bid_price_4'].isnull().sum()"
   ]
  },
  {
   "cell_type": "code",
   "execution_count": 23,
   "id": "3ee7c36c",
   "metadata": {},
   "outputs": [
    {
     "data": {
      "text/plain": [
       "32"
      ]
     },
     "execution_count": 23,
     "metadata": {},
     "output_type": "execute_result"
    }
   ],
   "source": [
    "data['bid_price_3'].isnull().sum()"
   ]
  },
  {
   "cell_type": "code",
   "execution_count": 24,
   "id": "e9deb77e",
   "metadata": {},
   "outputs": [
    {
     "data": {
      "text/plain": [
       "6"
      ]
     },
     "execution_count": 24,
     "metadata": {},
     "output_type": "execute_result"
    }
   ],
   "source": [
    "data['bid_price_2'].isnull().sum()"
   ]
  },
  {
   "cell_type": "code",
   "execution_count": 25,
   "id": "91bb36e9",
   "metadata": {},
   "outputs": [
    {
     "data": {
      "text/plain": [
       "0"
      ]
     },
     "execution_count": 25,
     "metadata": {},
     "output_type": "execute_result"
    }
   ],
   "source": [
    "data['bid_price_1'].isnull().sum()"
   ]
  },
  {
   "cell_type": "code",
   "execution_count": 26,
   "id": "1ba6f935",
   "metadata": {},
   "outputs": [
    {
     "data": {
      "text/plain": [
       "95"
      ]
     },
     "execution_count": 26,
     "metadata": {},
     "output_type": "execute_result"
    }
   ],
   "source": [
    "data['ask_price_5'].isnull().sum()"
   ]
  },
  {
   "cell_type": "code",
   "execution_count": 27,
   "id": "d61e1151",
   "metadata": {},
   "outputs": [],
   "source": [
    "final_bid_price = []\n",
    "\n",
    "        \n",
    "for index, row in data.iterrows():\n",
    "    if row.bid_price_5 != np.nan: \n",
    "        final_bid_price.append(row['bid_price_5'])\n",
    "    elif row.bid_price_4 != np.nan: \n",
    "        final_bid_price.append(row['bid_price_4'])\n",
    "    elif row.bid_price_3 != np.nan: \n",
    "        final_bid_price.append(row['bid_price_3'])\n",
    "    elif row.bid_price_2 != np.nan:  \n",
    "        final_bid_price.append(row['bid_price_2'])\n",
    "    else: final_bid_price.append(row['bid_price_1'])        \n",
    "        \n",
    "data['final_bid_price'] = final_bid_price       "
   ]
  },
  {
   "cell_type": "code",
   "execution_count": 28,
   "id": "92b64b88",
   "metadata": {},
   "outputs": [],
   "source": [
    "final_bid_size = []\n",
    "\n",
    "        \n",
    "for index, row in data.iterrows():\n",
    "    if row.bid_size_5 != np.nan: \n",
    "        final_bid_size.append(row['bid_size_5'])\n",
    "    elif row.bid_size_4 != np.nan: \n",
    "        final_bid_size.append(row['bid_size_4'])\n",
    "    elif row.bid_size_3 != np.nan: \n",
    "        final_bid_size.append(row['bid_size_3'])\n",
    "    elif row.bid_size_2 != np.nan:  \n",
    "        final_bid_size.append(row['bid_size_2'])\n",
    "    else: final_bid_size.append(row['bid_size_1'])        \n",
    "        \n",
    "data['final_bid_size'] = final_bid_size"
   ]
  },
  {
   "cell_type": "code",
   "execution_count": 29,
   "id": "7d90ffa5",
   "metadata": {},
   "outputs": [],
   "source": [
    "final_ask_price = []\n",
    "\n",
    "        \n",
    "for index, row in data.iterrows():\n",
    "    if row.ask_price_5 != np.nan: \n",
    "        final_ask_price.append(row['ask_price_5'])\n",
    "    elif row.ask_price_4 != np.nan: \n",
    "        final_ask_price.append(row['ask_price_4'])\n",
    "    elif row.ask_price_3 != np.nan: \n",
    "        final_ask_price.append(row['ask_price_3'])\n",
    "    elif row.ask_price_2 != np.nan:  \n",
    "        final_ask_price.append(row['ask_price_2'])\n",
    "    else: final_ask_price.append(row['ask_price_1'])        \n",
    "        \n",
    "data['final_ask_price'] = final_ask_price       "
   ]
  },
  {
   "cell_type": "code",
   "execution_count": 30,
   "id": "5a3a97b0",
   "metadata": {},
   "outputs": [],
   "source": [
    "final_ask_size = []\n",
    "\n",
    "        \n",
    "for index, row in data.iterrows():\n",
    "    if row.ask_size_5 != np.nan: \n",
    "        final_ask_size.append(row['ask_size_5'])\n",
    "    elif row.ask_size_4 != np.nan: \n",
    "        final_ask_size.append(row['ask_size_4'])\n",
    "    elif row.ask_size_3 != np.nan: \n",
    "        final_ask_size.append(row['ask_size_3'])\n",
    "    elif row.ask_size_2 != np.nan:  \n",
    "        final_ask_size.append(row['ask_size_2'])\n",
    "    else: final_ask_size.append(row['ask_size_1'])        \n",
    "        \n",
    "data['final_ask_size'] = final_ask_size"
   ]
  },
  {
   "cell_type": "code",
   "execution_count": 31,
   "id": "9090c99a",
   "metadata": {},
   "outputs": [
    {
     "data": {
      "text/html": [
       "<div>\n",
       "<style scoped>\n",
       "    .dataframe tbody tr th:only-of-type {\n",
       "        vertical-align: middle;\n",
       "    }\n",
       "\n",
       "    .dataframe tbody tr th {\n",
       "        vertical-align: top;\n",
       "    }\n",
       "\n",
       "    .dataframe thead th {\n",
       "        text-align: right;\n",
       "    }\n",
       "</style>\n",
       "<table border=\"1\" class=\"dataframe\">\n",
       "  <thead>\n",
       "    <tr style=\"text-align: right;\">\n",
       "      <th></th>\n",
       "      <th>timestamp</th>\n",
       "      <th>bid_price_1</th>\n",
       "      <th>bid_price_2</th>\n",
       "      <th>bid_price_3</th>\n",
       "      <th>bid_price_4</th>\n",
       "      <th>bid_price_5</th>\n",
       "      <th>bid_size_1</th>\n",
       "      <th>bid_size_2</th>\n",
       "      <th>bid_size_3</th>\n",
       "      <th>bid_size_4</th>\n",
       "      <th>...</th>\n",
       "      <th>high</th>\n",
       "      <th>low</th>\n",
       "      <th>close</th>\n",
       "      <th>volume</th>\n",
       "      <th>symbol</th>\n",
       "      <th>volatility</th>\n",
       "      <th>final_bid_price</th>\n",
       "      <th>final_bid_size</th>\n",
       "      <th>final_ask_price</th>\n",
       "      <th>final_ask_size</th>\n",
       "    </tr>\n",
       "  </thead>\n",
       "  <tbody>\n",
       "    <tr>\n",
       "      <th>15</th>\n",
       "      <td>2023-09-12 13:45:00+00:00</td>\n",
       "      <td>179.52</td>\n",
       "      <td>179.52</td>\n",
       "      <td>179.52</td>\n",
       "      <td>179.52</td>\n",
       "      <td>179.52</td>\n",
       "      <td>23600.0</td>\n",
       "      <td>7600.0</td>\n",
       "      <td>10000.0</td>\n",
       "      <td>4000.0</td>\n",
       "      <td>...</td>\n",
       "      <td>179.52</td>\n",
       "      <td>179.26</td>\n",
       "      <td>179.26</td>\n",
       "      <td>21357.0</td>\n",
       "      <td>AAPL</td>\n",
       "      <td>0.004388</td>\n",
       "      <td>179.52</td>\n",
       "      <td>20000.0</td>\n",
       "      <td>179.26</td>\n",
       "      <td>16500.0</td>\n",
       "    </tr>\n",
       "    <tr>\n",
       "      <th>16</th>\n",
       "      <td>2023-09-12 13:46:00+00:00</td>\n",
       "      <td>179.31</td>\n",
       "      <td>179.31</td>\n",
       "      <td>179.31</td>\n",
       "      <td>179.31</td>\n",
       "      <td>179.31</td>\n",
       "      <td>23100.0</td>\n",
       "      <td>3000.0</td>\n",
       "      <td>10100.0</td>\n",
       "      <td>13100.0</td>\n",
       "      <td>...</td>\n",
       "      <td>179.31</td>\n",
       "      <td>179.06</td>\n",
       "      <td>179.09</td>\n",
       "      <td>25196.0</td>\n",
       "      <td>AAPL</td>\n",
       "      <td>0.003626</td>\n",
       "      <td>179.31</td>\n",
       "      <td>13100.0</td>\n",
       "      <td>179.07</td>\n",
       "      <td>2500.0</td>\n",
       "    </tr>\n",
       "    <tr>\n",
       "      <th>17</th>\n",
       "      <td>2023-09-12 13:47:00+00:00</td>\n",
       "      <td>179.10</td>\n",
       "      <td>179.10</td>\n",
       "      <td>179.10</td>\n",
       "      <td>179.10</td>\n",
       "      <td>179.10</td>\n",
       "      <td>10000.0</td>\n",
       "      <td>9200.0</td>\n",
       "      <td>13000.0</td>\n",
       "      <td>10000.0</td>\n",
       "      <td>...</td>\n",
       "      <td>179.11</td>\n",
       "      <td>178.87</td>\n",
       "      <td>179.01</td>\n",
       "      <td>59744.0</td>\n",
       "      <td>AAPL</td>\n",
       "      <td>0.003464</td>\n",
       "      <td>179.10</td>\n",
       "      <td>15500.0</td>\n",
       "      <td>178.87</td>\n",
       "      <td>18800.0</td>\n",
       "    </tr>\n",
       "    <tr>\n",
       "      <th>18</th>\n",
       "      <td>2023-09-12 13:48:00+00:00</td>\n",
       "      <td>179.10</td>\n",
       "      <td>179.10</td>\n",
       "      <td>179.10</td>\n",
       "      <td>179.10</td>\n",
       "      <td>179.10</td>\n",
       "      <td>10000.0</td>\n",
       "      <td>9700.0</td>\n",
       "      <td>10000.0</td>\n",
       "      <td>13200.0</td>\n",
       "      <td>...</td>\n",
       "      <td>179.10</td>\n",
       "      <td>178.78</td>\n",
       "      <td>178.82</td>\n",
       "      <td>33523.0</td>\n",
       "      <td>AAPL</td>\n",
       "      <td>0.003094</td>\n",
       "      <td>179.10</td>\n",
       "      <td>10000.0</td>\n",
       "      <td>178.78</td>\n",
       "      <td>27100.0</td>\n",
       "    </tr>\n",
       "    <tr>\n",
       "      <th>19</th>\n",
       "      <td>2023-09-12 13:49:00+00:00</td>\n",
       "      <td>178.82</td>\n",
       "      <td>178.82</td>\n",
       "      <td>178.82</td>\n",
       "      <td>178.82</td>\n",
       "      <td>178.82</td>\n",
       "      <td>36600.0</td>\n",
       "      <td>10000.0</td>\n",
       "      <td>16600.0</td>\n",
       "      <td>36600.0</td>\n",
       "      <td>...</td>\n",
       "      <td>178.83</td>\n",
       "      <td>178.51</td>\n",
       "      <td>178.60</td>\n",
       "      <td>38747.0</td>\n",
       "      <td>AAPL</td>\n",
       "      <td>0.003019</td>\n",
       "      <td>178.82</td>\n",
       "      <td>36600.0</td>\n",
       "      <td>178.51</td>\n",
       "      <td>13900.0</td>\n",
       "    </tr>\n",
       "  </tbody>\n",
       "</table>\n",
       "<p>5 rows × 32 columns</p>\n",
       "</div>"
      ],
      "text/plain": [
       "                   timestamp  bid_price_1  bid_price_2  bid_price_3  \\\n",
       "15 2023-09-12 13:45:00+00:00       179.52       179.52       179.52   \n",
       "16 2023-09-12 13:46:00+00:00       179.31       179.31       179.31   \n",
       "17 2023-09-12 13:47:00+00:00       179.10       179.10       179.10   \n",
       "18 2023-09-12 13:48:00+00:00       179.10       179.10       179.10   \n",
       "19 2023-09-12 13:49:00+00:00       178.82       178.82       178.82   \n",
       "\n",
       "    bid_price_4  bid_price_5  bid_size_1  bid_size_2  bid_size_3  bid_size_4  \\\n",
       "15       179.52       179.52     23600.0      7600.0     10000.0      4000.0   \n",
       "16       179.31       179.31     23100.0      3000.0     10100.0     13100.0   \n",
       "17       179.10       179.10     10000.0      9200.0     13000.0     10000.0   \n",
       "18       179.10       179.10     10000.0      9700.0     10000.0     13200.0   \n",
       "19       178.82       178.82     36600.0     10000.0     16600.0     36600.0   \n",
       "\n",
       "    ...    high     low   close   volume  symbol  volatility  final_bid_price  \\\n",
       "15  ...  179.52  179.26  179.26  21357.0    AAPL    0.004388           179.52   \n",
       "16  ...  179.31  179.06  179.09  25196.0    AAPL    0.003626           179.31   \n",
       "17  ...  179.11  178.87  179.01  59744.0    AAPL    0.003464           179.10   \n",
       "18  ...  179.10  178.78  178.82  33523.0    AAPL    0.003094           179.10   \n",
       "19  ...  178.83  178.51  178.60  38747.0    AAPL    0.003019           178.82   \n",
       "\n",
       "    final_bid_size  final_ask_price  final_ask_size  \n",
       "15         20000.0           179.26         16500.0  \n",
       "16         13100.0           179.07          2500.0  \n",
       "17         15500.0           178.87         18800.0  \n",
       "18         10000.0           178.78         27100.0  \n",
       "19         36600.0           178.51         13900.0  \n",
       "\n",
       "[5 rows x 32 columns]"
      ]
     },
     "execution_count": 31,
     "metadata": {},
     "output_type": "execute_result"
    }
   ],
   "source": [
    "data.head()"
   ]
  },
  {
   "cell_type": "code",
   "execution_count": 32,
   "id": "7fc436df",
   "metadata": {},
   "outputs": [],
   "source": [
    "# close = []\n"
   ]
  },
  {
   "cell_type": "markdown",
   "id": "b4482c7c",
   "metadata": {},
   "source": [
    "### Baseline Strategies:"
   ]
  },
  {
   "cell_type": "code",
   "execution_count": 419,
   "id": "25b153cd",
   "metadata": {},
   "outputs": [],
   "source": [
    "# class Benchmark:\n",
    "    \n",
    "#     def __init__(self, data):\n",
    "#         \"\"\"\n",
    "#         Initializes the Benchmark class with provided market data.\n",
    "\n",
    "#         Parameters:\n",
    "#         data (DataFrame): A DataFrame containing market data, including top 5 bid prices and sizes. (Use bid_ask_ohlcv_data)\n",
    "#         \"\"\"\n",
    "#         # Use data with top 5 bid prices and sizes for benchmarking\n",
    "#         self.data = data\n",
    "\n",
    "#     def get_twap_trades(self, data, initial_inventory, preferred_timeframe=390):\n",
    "#         \"\"\"\n",
    "#         Generates a trade schedule based on the Time-Weighted Average Price (TWAP) strategy.\n",
    "\n",
    "#         Parameters:\n",
    "#         data (DataFrame): The input data containing timestamps and closing prices for each time step.\n",
    "#         initial_inventory (int): The total number of shares to be sold over the preferred timeframe.\n",
    "#         preferred_timeframe (int): The total number of time steps (default is 390, representing a full trading day).\n",
    "\n",
    "#         Returns:\n",
    "#         DataFrame: A DataFrame containing the TWAP trades with timestamps, price, shares sold, and remaining inventory.\n",
    "#         \"\"\"\n",
    "#         total_steps = len(data)\n",
    "#         twap_shares_per_step = initial_inventory / preferred_timeframe\n",
    "#         remaining_inventory = initial_inventory\n",
    "#         trades = []\n",
    "#         for step in range(min(total_steps, preferred_timeframe)):\n",
    "#             size_of_slice = min(twap_shares_per_step, remaining_inventory)\n",
    "#             remaining_inventory -= int(np.ceil(size_of_slice))\n",
    "#             trade = {\n",
    "#                 'timestamp': data.iloc[step]['timestamp'],\n",
    "#                 'step': step,\n",
    "#                 'price': data.iloc[step]['close'],\n",
    "#                 'shares': size_of_slice,\n",
    "#                 'inventory': remaining_inventory,\n",
    "#             }\n",
    "#             trades.append(trade)\n",
    "#         return pd.DataFrame(trades)\n",
    "\n",
    "#     def get_vwap_trades(self, data, initial_inventory, preferred_timeframe=390):\n",
    "#         \"\"\"\n",
    "#         Generates a trade schedule based on the Volume-Weighted Average Price (VWAP) strategy.\n",
    "\n",
    "#         Parameters:\n",
    "#         data (DataFrame): The input data containing timestamps, closing prices, and volumes for each time step.\n",
    "#         initial_inventory (int): The total number of shares to be sold over the preferred timeframe.\n",
    "#         preferred_timeframe (int): The total number of time steps (default is 390, representing a full trading day).\n",
    "\n",
    "#         Returns:\n",
    "#         DataFrame: A DataFrame containing the VWAP trades with timestamps, price, shares sold, and remaining inventory.\n",
    "#         \"\"\"\n",
    "#         total_volume = data['volume'].sum()\n",
    "#         total_steps = len(data)\n",
    "#         remaining_inventory = initial_inventory\n",
    "#         trades = []\n",
    "#         for step in range(min(total_steps, preferred_timeframe)):\n",
    "#             volume_at_step = data['volume'].iloc[step]\n",
    "#             size_of_slice = (volume_at_step / total_volume) * initial_inventory\n",
    "#             size_of_slice = min(size_of_slice, remaining_inventory)\n",
    "#             remaining_inventory -= int(np.ceil(size_of_slice))\n",
    "#             price = data.iloc[step]['close']\n",
    "#             pv = (volume_at_step*price)\n",
    "#             trade = {\n",
    "#                 'timestamp': data.iloc[step]['timestamp'],\n",
    "#                 'step': step,\n",
    "#                 'price': price,\n",
    "#                 'shares': size_of_slice,\n",
    "#                 'inventory': remaining_inventory,\n",
    "#                 'volume':volume_at_step,\n",
    "#                 'pv': pv\n",
    "#             }\n",
    "#             trades.append(trade)\n",
    "#         return pd.DataFrame(trades)\n",
    "    \n",
    "#     def calculate_vwap(self, shares, idx):\n",
    "#         \"\"\"\n",
    "#         Calculates the Volume-Weighted Average Price (VWAP) for a given step and share size.\n",
    "\n",
    "#         Parameters:\n",
    "#         idx (int): The index of the current step in the market data.\n",
    "#         shares (int): The number of shares being traded at the current step.\n",
    "\n",
    "#         Returns:\n",
    "#         float: The calculated VWAP price for the current step.\n",
    "#         \"\"\"\n",
    "#         # Assumes you have best 5 bid prices and sizes in your dataset\n",
    "#         bid_prices = [self.data[f'bid_price_{i}'] for i in range(1,6)]\n",
    "#         bid_sizes = [self.data[f'bid_size_{i}'] for i in range(1,6)]\n",
    "#         bid_sizes = bid_sizes\n",
    "#         cumsum = 0\n",
    "#         for i, size in enumerate(bid_sizes):\n",
    "#             cumsum += size\n",
    "#             if cumsum >= shares:\n",
    "#                 break\n",
    "# #         for idx, row in df.iterrows():\n",
    "# #             bigdf['score'] = row['Age']-np.average(df['Age'])\n",
    "\n",
    "#         return np.sum(bid_prices[:idx] * bid_sizes[:idx]) / np.sum(bid_sizes[:idx])\n",
    "# #         return (bid_prices[idx] * bid_sizes).cumsum() / bid_sizes[idx].cumsum()\n",
    "# #         df['pv'] = df['price'] * df['volume']\n",
    "# #         return trades['pv'].cumsum() / trades['volume'].cumsum()\n",
    "\n",
    "# # def vwap(df):\n",
    "# #         q = trades.pv.values\n",
    "# #         p = trades.volume.values\n",
    "# #         return (p * q).cumsum() / q.cumsum()\n",
    "\n",
    "#     def compute_components(self, alpha, shares, idx):\n",
    "#         \"\"\"\n",
    "#         Computes the transaction cost components such as slippage and market impact for a given trade.\n",
    "\n",
    "#         Parameters:\n",
    "#         alpha (float): A scaling factor for market impact (determined empirically or based on research).\n",
    "#         shares (int): The number of shares being traded at the current step.\n",
    "#         idx (int): The index of the current step in the market data.\n",
    "\n",
    "#         Returns:\n",
    "#         array: A NumPy array containing the slippage and market impact for the given trade.\n",
    "#         \"\"\"\n",
    "#         actual_price = self.calculate_vwap(shares, idx)\n",
    "#         Slippage = (self.data['bid_price_1'] - actual_price) * shares  # Assumes bid_price is in your dataset\n",
    "#         Market_Impact = alpha * np.sqrt(shares)\n",
    "#         return np.array([Slippage, Market_Impact])\n",
    "    \n",
    "#     def simulate_strategy(self, trades, data, preferred_timeframe):\n",
    "#         \"\"\"\n",
    "#         Simulates a trading strategy and calculates various transaction cost components.\n",
    "\n",
    "#         Parameters:\n",
    "#         trades (DataFrame): A DataFrame where each row contains 'shares' and 'action' for each trade.\n",
    "#         data (DataFrame): Market data including bid prices and volumes.\n",
    "#         preferred_timeframe (int): The total number of time steps over which the strategy is simulated.\n",
    "\n",
    "#         Returns:\n",
    "#         tuple: A tuple containing lists of slippage, market impact.\n",
    "#         \"\"\"\n",
    "        \n",
    "#         # Initialize result lists\n",
    "#         slippage = []\n",
    "#         market_impact = []\n",
    "#         alpha = 4.439584265535017e-06 \n",
    "#         rewards = []\n",
    "#         shares_traded = []\n",
    "\n",
    "#         # Simulate the strategy\n",
    "#         for idx in range(len(trades)):\n",
    "#             shares = trades.iloc[idx]['shares']\n",
    "#             reward = self.compute_components(alpha, shares, idx)\n",
    "#             slippage.append(reward[0])\n",
    "#             market_impact.append(reward[1])\n",
    "#             shares_traded.append(shares)\n",
    "#             rewards.append(reward)\n",
    "\n",
    "#         return slippage, market_impact\n"
   ]
  },
  {
   "cell_type": "code",
   "execution_count": 575,
   "id": "de44bb0b",
   "metadata": {},
   "outputs": [],
   "source": [
    "import pandas as pd\n",
    "import numpy as np\n",
    "\n",
    "class Benchmark:\n",
    "    \n",
    "    def __init__(self, data):\n",
    "        \"\"\"\n",
    "        Initializes the Benchmark class with provided market data.\n",
    "\n",
    "        Parameters:\n",
    "        data (DataFrame): A DataFrame containing market data, including top 5 bid prices and sizes. (Use bid_ask_ohlcv_data)\n",
    "        \"\"\"\n",
    "        # Use data with top 5 bid prices and sizes for benchmarking\n",
    "        self.data = data\n",
    "\n",
    "    def get_twap_trades(self, data, initial_inventory, preferred_timeframe=390):\n",
    "        \"\"\"\n",
    "        Generates a trade schedule based on the Time-Weighted Average Price (TWAP) strategy.\n",
    "\n",
    "        Parameters:\n",
    "        data (DataFrame): The input data containing timestamps and closing prices for each time step.\n",
    "        initial_inventory (int): The total number of shares to be sold over the preferred timeframe.\n",
    "        preferred_timeframe (int): The total number of time steps (default is 390, representing a full trading day).\n",
    "\n",
    "        Returns:\n",
    "        DataFrame: A DataFrame containing the TWAP trades with timestamps, price, shares sold, and remaining inventory.\n",
    "        \"\"\"\n",
    "        total_steps = len(data)\n",
    "        twap_shares_per_step = initial_inventory / preferred_timeframe\n",
    "        remaining_inventory = initial_inventory\n",
    "        trades = []\n",
    "        for step in range(min(total_steps, preferred_timeframe)):\n",
    "            size_of_slice = min(twap_shares_per_step, remaining_inventory)\n",
    "            remaining_inventory -= int(np.ceil(size_of_slice))\n",
    "            trade = {\n",
    "                'timestamp': data.iloc[step]['timestamp'],\n",
    "                'step': step,\n",
    "                'price': data.iloc[step]['close'],\n",
    "                'shares': size_of_slice,\n",
    "                'inventory': remaining_inventory,\n",
    "            }\n",
    "            trades.append(trade)\n",
    "        return pd.DataFrame(trades)\n",
    "\n",
    "    def get_vwap_trades(self, data, initial_inventory, preferred_timeframe=390):\n",
    "        \"\"\"\n",
    "        Generates a trade schedule based on the Volume-Weighted Average Price (VWAP) strategy.\n",
    "\n",
    "        Parameters:\n",
    "        data (DataFrame): The input data containing timestamps, closing prices, and volumes for each time step.\n",
    "        initial_inventory (int): The total number of shares to be sold over the preferred timeframe.\n",
    "        preferred_timeframe (int): The total number of time steps (default is 390, representing a full trading day).\n",
    "\n",
    "        Returns:\n",
    "        DataFrame: A DataFrame containing the VWAP trades with timestamps, price, shares sold, and remaining inventory.\n",
    "        \"\"\"\n",
    "        total_volume = data['volume'].sum()\n",
    "        total_steps = len(data)\n",
    "        remaining_inventory = initial_inventory\n",
    "        trades = []\n",
    "        for step in range(min(total_steps, preferred_timeframe)):\n",
    "            volume_at_step = data['volume'].iloc[step]\n",
    "            size_of_slice = (volume_at_step / total_volume) * initial_inventory\n",
    "            size_of_slice = min(size_of_slice, remaining_inventory)\n",
    "            remaining_inventory -= int(np.ceil(size_of_slice))\n",
    "            trade = {\n",
    "                'timestamp': data.iloc[step]['timestamp'],\n",
    "                'step': step,\n",
    "                'price': data.iloc[step]['close'],\n",
    "                'shares': size_of_slice,\n",
    "                'inventory': remaining_inventory,\n",
    "            }\n",
    "            trades.append(trade)\n",
    "        return pd.DataFrame(trades)\n",
    "    \n",
    "    def calculate_vwap(self, idx, shares):\n",
    "        \"\"\"\n",
    "        Calculates the Volume-Weighted Average Price (VWAP) for a given step and share size.\n",
    "\n",
    "        Parameters:\n",
    "        idx (int): The index of the current step in the market data.\n",
    "        shares (int): The number of shares being traded at the current step.\n",
    "\n",
    "        Returns:\n",
    "        float: The calculated VWAP price for the current step.\n",
    "        \"\"\"\n",
    "        # Assumes you have best 5 bid prices and sizes in your dataset\n",
    "        bid_prices = [self.data[f'bid_price_{i}'] for i in range(1,6)]\n",
    "        bid_sizes = [self.data[f'bid_size_{i}'] for i in range(1,6)]\n",
    "        cumsum = 0\n",
    "        for val in bid_sizes[1]:\n",
    "            cumsum += val\n",
    "            if cumsum >= shares:\n",
    "                break\n",
    "        \n",
    "        \n",
    "        return np.sum(bid_prices[1] * bid_sizes[1]) / np.sum(bid_sizes[1])\n",
    "\n",
    "    def compute_components(self, alpha, shares, idx):\n",
    "        \"\"\"\n",
    "        Computes the transaction cost components such as slippage and market impact for a given trade.\n",
    "\n",
    "        Parameters:\n",
    "        alpha (float): A scaling factor for market impact (determined empirically or based on research).\n",
    "        shares (int): The number of shares being traded at the current step.\n",
    "        idx (int): The index of the current step in the market data.\n",
    "\n",
    "        Returns:\n",
    "        array: A NumPy array containing the slippage and market impact for the given trade.\n",
    "        \"\"\"\n",
    "        actual_price = self.calculate_vwap(idx, shares)\n",
    "        Slippage = (self.data['bid_price_1'] - actual_price) * shares  # Assumes bid_price is in your dataset\n",
    "        Market_Impact = alpha * np.sqrt(shares)\n",
    "        return np.array([Slippage, Market_Impact])\n",
    "    \n",
    "    def simulate_strategy(self, trades, data, preferred_timeframe):\n",
    "        \"\"\"\n",
    "        Simulates a trading strategy and calculates various transaction cost components.\n",
    "\n",
    "        Parameters:\n",
    "        trades (DataFrame): A DataFrame where each row contains 'shares' and 'action' for each trade.\n",
    "        data (DataFrame): Market data including bid prices and volumes.\n",
    "        preferred_timeframe (int): The total number of time steps over which the strategy is simulated.\n",
    "\n",
    "        Returns:\n",
    "        tuple: A tuple containing lists of slippage, market impact.\n",
    "        \"\"\"\n",
    "        \n",
    "        # Initialize result lists\n",
    "        slippage = []\n",
    "        market_impact = []\n",
    "        alpha = 4.439584265535017e-06 \n",
    "        rewards = []\n",
    "        shares_traded = []\n",
    "\n",
    "        # Simulate the strategy\n",
    "        for idx in range(len(trades)):\n",
    "            shares = trades.iloc[idx]['shares']\n",
    "            reward = self.compute_components(alpha, shares, idx)\n",
    "            slippage.append(reward[0])\n",
    "            market_impact.append(reward[1])\n",
    "            shares_traded.append(shares)\n",
    "            rewards.append(reward)\n",
    "\n",
    "        return slippage, market_impact\n"
   ]
  },
  {
   "cell_type": "code",
   "execution_count": 576,
   "id": "d5162eb3",
   "metadata": {},
   "outputs": [
    {
     "name": "stdout",
     "output_type": "stream",
     "text": [
      "<__main__.Benchmark object at 0x7f9770e1f670>\n"
     ]
    }
   ],
   "source": [
    "benchmarks = Benchmark(data)\n",
    "# model_1a.compile(optimizer=tf.keras.optimizers.Adam(0.05))\n",
    "print(benchmarks)"
   ]
  },
  {
   "cell_type": "code",
   "execution_count": 577,
   "id": "7042e74e",
   "metadata": {},
   "outputs": [],
   "source": [
    "twap_trades = benchmarks.get_twap_trades(data=data, initial_inventory=1000)"
   ]
  },
  {
   "cell_type": "code",
   "execution_count": 578,
   "id": "6899f5af",
   "metadata": {},
   "outputs": [
    {
     "data": {
      "text/html": [
       "<div>\n",
       "<style scoped>\n",
       "    .dataframe tbody tr th:only-of-type {\n",
       "        vertical-align: middle;\n",
       "    }\n",
       "\n",
       "    .dataframe tbody tr th {\n",
       "        vertical-align: top;\n",
       "    }\n",
       "\n",
       "    .dataframe thead th {\n",
       "        text-align: right;\n",
       "    }\n",
       "</style>\n",
       "<table border=\"1\" class=\"dataframe\">\n",
       "  <thead>\n",
       "    <tr style=\"text-align: right;\">\n",
       "      <th></th>\n",
       "      <th>timestamp</th>\n",
       "      <th>step</th>\n",
       "      <th>price</th>\n",
       "      <th>shares</th>\n",
       "      <th>inventory</th>\n",
       "    </tr>\n",
       "  </thead>\n",
       "  <tbody>\n",
       "    <tr>\n",
       "      <th>0</th>\n",
       "      <td>2023-09-12 13:45:00+00:00</td>\n",
       "      <td>0</td>\n",
       "      <td>179.26</td>\n",
       "      <td>0.007874</td>\n",
       "      <td>999</td>\n",
       "    </tr>\n",
       "    <tr>\n",
       "      <th>1</th>\n",
       "      <td>2023-09-12 13:46:00+00:00</td>\n",
       "      <td>1</td>\n",
       "      <td>179.09</td>\n",
       "      <td>0.009290</td>\n",
       "      <td>998</td>\n",
       "    </tr>\n",
       "    <tr>\n",
       "      <th>2</th>\n",
       "      <td>2023-09-12 13:47:00+00:00</td>\n",
       "      <td>2</td>\n",
       "      <td>179.01</td>\n",
       "      <td>0.022027</td>\n",
       "      <td>997</td>\n",
       "    </tr>\n",
       "    <tr>\n",
       "      <th>3</th>\n",
       "      <td>2023-09-12 13:48:00+00:00</td>\n",
       "      <td>3</td>\n",
       "      <td>178.82</td>\n",
       "      <td>0.012360</td>\n",
       "      <td>996</td>\n",
       "    </tr>\n",
       "    <tr>\n",
       "      <th>4</th>\n",
       "      <td>2023-09-12 13:49:00+00:00</td>\n",
       "      <td>4</td>\n",
       "      <td>178.60</td>\n",
       "      <td>0.014286</td>\n",
       "      <td>995</td>\n",
       "    </tr>\n",
       "    <tr>\n",
       "      <th>...</th>\n",
       "      <td>...</td>\n",
       "      <td>...</td>\n",
       "      <td>...</td>\n",
       "      <td>...</td>\n",
       "      <td>...</td>\n",
       "    </tr>\n",
       "    <tr>\n",
       "      <th>385</th>\n",
       "      <td>2023-09-13 13:40:00+00:00</td>\n",
       "      <td>385</td>\n",
       "      <td>175.46</td>\n",
       "      <td>0.020484</td>\n",
       "      <td>614</td>\n",
       "    </tr>\n",
       "    <tr>\n",
       "      <th>386</th>\n",
       "      <td>2023-09-13 13:41:00+00:00</td>\n",
       "      <td>386</td>\n",
       "      <td>175.90</td>\n",
       "      <td>0.013799</td>\n",
       "      <td>613</td>\n",
       "    </tr>\n",
       "    <tr>\n",
       "      <th>387</th>\n",
       "      <td>2023-09-13 13:42:00+00:00</td>\n",
       "      <td>387</td>\n",
       "      <td>175.85</td>\n",
       "      <td>0.012438</td>\n",
       "      <td>612</td>\n",
       "    </tr>\n",
       "    <tr>\n",
       "      <th>388</th>\n",
       "      <td>2023-09-13 13:43:00+00:00</td>\n",
       "      <td>388</td>\n",
       "      <td>175.71</td>\n",
       "      <td>0.026810</td>\n",
       "      <td>611</td>\n",
       "    </tr>\n",
       "    <tr>\n",
       "      <th>389</th>\n",
       "      <td>2023-09-13 13:44:00+00:00</td>\n",
       "      <td>389</td>\n",
       "      <td>175.82</td>\n",
       "      <td>0.014786</td>\n",
       "      <td>610</td>\n",
       "    </tr>\n",
       "  </tbody>\n",
       "</table>\n",
       "<p>390 rows × 5 columns</p>\n",
       "</div>"
      ],
      "text/plain": [
       "                    timestamp  step   price    shares  inventory\n",
       "0   2023-09-12 13:45:00+00:00     0  179.26  0.007874        999\n",
       "1   2023-09-12 13:46:00+00:00     1  179.09  0.009290        998\n",
       "2   2023-09-12 13:47:00+00:00     2  179.01  0.022027        997\n",
       "3   2023-09-12 13:48:00+00:00     3  178.82  0.012360        996\n",
       "4   2023-09-12 13:49:00+00:00     4  178.60  0.014286        995\n",
       "..                        ...   ...     ...       ...        ...\n",
       "385 2023-09-13 13:40:00+00:00   385  175.46  0.020484        614\n",
       "386 2023-09-13 13:41:00+00:00   386  175.90  0.013799        613\n",
       "387 2023-09-13 13:42:00+00:00   387  175.85  0.012438        612\n",
       "388 2023-09-13 13:43:00+00:00   388  175.71  0.026810        611\n",
       "389 2023-09-13 13:44:00+00:00   389  175.82  0.014786        610\n",
       "\n",
       "[390 rows x 5 columns]"
      ]
     },
     "execution_count": 578,
     "metadata": {},
     "output_type": "execute_result"
    }
   ],
   "source": [
    "vwap_trades"
   ]
  },
  {
   "cell_type": "code",
   "execution_count": 579,
   "id": "3c0fe8a6",
   "metadata": {},
   "outputs": [],
   "source": [
    "vwap_trades = benchmarks.get_vwap_trades(data=data, initial_inventory=1000)"
   ]
  },
  {
   "cell_type": "code",
   "execution_count": 580,
   "id": "9264b68b",
   "metadata": {},
   "outputs": [],
   "source": [
    "# components = benchmarks.compute_components(alpha= 4.439584265535017e-06 ,shares=1000, idx=data.index)"
   ]
  },
  {
   "cell_type": "code",
   "execution_count": 581,
   "id": "25f67620",
   "metadata": {},
   "outputs": [
    {
     "ename": "ValueError",
     "evalue": "setting an array element with a sequence. The requested array has an inhomogeneous shape after 1 dimensions. The detected shape was (2,) + inhomogeneous part.",
     "output_type": "error",
     "traceback": [
      "\u001b[0;31m---------------------------------------------------------------------------\u001b[0m",
      "\u001b[0;31mValueError\u001b[0m                                Traceback (most recent call last)",
      "\u001b[0;32m<ipython-input-581-b55474f75519>\u001b[0m in \u001b[0;36m<module>\u001b[0;34m\u001b[0m\n\u001b[0;32m----> 1\u001b[0;31m \u001b[0mbenchmarks\u001b[0m\u001b[0;34m.\u001b[0m\u001b[0msimulate_strategy\u001b[0m\u001b[0;34m(\u001b[0m\u001b[0mtrades\u001b[0m\u001b[0;34m=\u001b[0m\u001b[0mvwap_trades\u001b[0m\u001b[0;34m,\u001b[0m \u001b[0mdata\u001b[0m\u001b[0;34m=\u001b[0m\u001b[0mdata\u001b[0m\u001b[0;34m,\u001b[0m \u001b[0mpreferred_timeframe\u001b[0m\u001b[0;34m=\u001b[0m\u001b[0;36m390\u001b[0m\u001b[0;34m)\u001b[0m\u001b[0;34m\u001b[0m\u001b[0;34m\u001b[0m\u001b[0m\n\u001b[0m",
      "\u001b[0;32m<ipython-input-575-4c1cf70935ba>\u001b[0m in \u001b[0;36msimulate_strategy\u001b[0;34m(self, trades, data, preferred_timeframe)\u001b[0m\n\u001b[1;32m    137\u001b[0m         \u001b[0;32mfor\u001b[0m \u001b[0midx\u001b[0m \u001b[0;32min\u001b[0m \u001b[0mrange\u001b[0m\u001b[0;34m(\u001b[0m\u001b[0mlen\u001b[0m\u001b[0;34m(\u001b[0m\u001b[0mtrades\u001b[0m\u001b[0;34m)\u001b[0m\u001b[0;34m)\u001b[0m\u001b[0;34m:\u001b[0m\u001b[0;34m\u001b[0m\u001b[0;34m\u001b[0m\u001b[0m\n\u001b[1;32m    138\u001b[0m             \u001b[0mshares\u001b[0m \u001b[0;34m=\u001b[0m \u001b[0mtrades\u001b[0m\u001b[0;34m.\u001b[0m\u001b[0miloc\u001b[0m\u001b[0;34m[\u001b[0m\u001b[0midx\u001b[0m\u001b[0;34m]\u001b[0m\u001b[0;34m[\u001b[0m\u001b[0;34m'shares'\u001b[0m\u001b[0;34m]\u001b[0m\u001b[0;34m\u001b[0m\u001b[0;34m\u001b[0m\u001b[0m\n\u001b[0;32m--> 139\u001b[0;31m             \u001b[0mreward\u001b[0m \u001b[0;34m=\u001b[0m \u001b[0mself\u001b[0m\u001b[0;34m.\u001b[0m\u001b[0mcompute_components\u001b[0m\u001b[0;34m(\u001b[0m\u001b[0malpha\u001b[0m\u001b[0;34m,\u001b[0m \u001b[0mshares\u001b[0m\u001b[0;34m,\u001b[0m \u001b[0midx\u001b[0m\u001b[0;34m)\u001b[0m\u001b[0;34m\u001b[0m\u001b[0;34m\u001b[0m\u001b[0m\n\u001b[0m\u001b[1;32m    140\u001b[0m             \u001b[0mslippage\u001b[0m\u001b[0;34m.\u001b[0m\u001b[0mappend\u001b[0m\u001b[0;34m(\u001b[0m\u001b[0mreward\u001b[0m\u001b[0;34m[\u001b[0m\u001b[0;36m0\u001b[0m\u001b[0;34m]\u001b[0m\u001b[0;34m)\u001b[0m\u001b[0;34m\u001b[0m\u001b[0;34m\u001b[0m\u001b[0m\n\u001b[1;32m    141\u001b[0m             \u001b[0mmarket_impact\u001b[0m\u001b[0;34m.\u001b[0m\u001b[0mappend\u001b[0m\u001b[0;34m(\u001b[0m\u001b[0mreward\u001b[0m\u001b[0;34m[\u001b[0m\u001b[0;36m1\u001b[0m\u001b[0;34m]\u001b[0m\u001b[0;34m)\u001b[0m\u001b[0;34m\u001b[0m\u001b[0;34m\u001b[0m\u001b[0m\n",
      "\u001b[0;32m<ipython-input-575-4c1cf70935ba>\u001b[0m in \u001b[0;36mcompute_components\u001b[0;34m(self, alpha, shares, idx)\u001b[0m\n\u001b[1;32m    112\u001b[0m         \u001b[0mSlippage\u001b[0m \u001b[0;34m=\u001b[0m \u001b[0;34m(\u001b[0m\u001b[0mself\u001b[0m\u001b[0;34m.\u001b[0m\u001b[0mdata\u001b[0m\u001b[0;34m[\u001b[0m\u001b[0;34m'bid_price_1'\u001b[0m\u001b[0;34m]\u001b[0m \u001b[0;34m-\u001b[0m \u001b[0mactual_price\u001b[0m\u001b[0;34m)\u001b[0m \u001b[0;34m*\u001b[0m \u001b[0mshares\u001b[0m  \u001b[0;31m# Assumes bid_price is in your dataset\u001b[0m\u001b[0;34m\u001b[0m\u001b[0;34m\u001b[0m\u001b[0m\n\u001b[1;32m    113\u001b[0m         \u001b[0mMarket_Impact\u001b[0m \u001b[0;34m=\u001b[0m \u001b[0malpha\u001b[0m \u001b[0;34m*\u001b[0m \u001b[0mnp\u001b[0m\u001b[0;34m.\u001b[0m\u001b[0msqrt\u001b[0m\u001b[0;34m(\u001b[0m\u001b[0mshares\u001b[0m\u001b[0;34m)\u001b[0m\u001b[0;34m\u001b[0m\u001b[0;34m\u001b[0m\u001b[0m\n\u001b[0;32m--> 114\u001b[0;31m         \u001b[0;32mreturn\u001b[0m \u001b[0mnp\u001b[0m\u001b[0;34m.\u001b[0m\u001b[0marray\u001b[0m\u001b[0;34m(\u001b[0m\u001b[0;34m[\u001b[0m\u001b[0mSlippage\u001b[0m\u001b[0;34m,\u001b[0m \u001b[0mMarket_Impact\u001b[0m\u001b[0;34m]\u001b[0m\u001b[0;34m)\u001b[0m\u001b[0;34m\u001b[0m\u001b[0;34m\u001b[0m\u001b[0m\n\u001b[0m\u001b[1;32m    115\u001b[0m \u001b[0;34m\u001b[0m\u001b[0m\n\u001b[1;32m    116\u001b[0m     \u001b[0;32mdef\u001b[0m \u001b[0msimulate_strategy\u001b[0m\u001b[0;34m(\u001b[0m\u001b[0mself\u001b[0m\u001b[0;34m,\u001b[0m \u001b[0mtrades\u001b[0m\u001b[0;34m,\u001b[0m \u001b[0mdata\u001b[0m\u001b[0;34m,\u001b[0m \u001b[0mpreferred_timeframe\u001b[0m\u001b[0;34m)\u001b[0m\u001b[0;34m:\u001b[0m\u001b[0;34m\u001b[0m\u001b[0;34m\u001b[0m\u001b[0m\n",
      "\u001b[0;31mValueError\u001b[0m: setting an array element with a sequence. The requested array has an inhomogeneous shape after 1 dimensions. The detected shape was (2,) + inhomogeneous part."
     ]
    }
   ],
   "source": [
    "benchmarks.simulate_strategy(trades=vwap_trades, data=data, preferred_timeframe=390)"
   ]
  }
 ],
 "metadata": {
  "kernelspec": {
   "display_name": "Python 3",
   "language": "python",
   "name": "python3"
  },
  "language_info": {
   "codemirror_mode": {
    "name": "ipython",
    "version": 3
   },
   "file_extension": ".py",
   "mimetype": "text/x-python",
   "name": "python",
   "nbconvert_exporter": "python",
   "pygments_lexer": "ipython3",
   "version": "3.8.5"
  }
 },
 "nbformat": 4,
 "nbformat_minor": 5
}
